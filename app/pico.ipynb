{
 "cells": [
  {
   "cell_type": "code",
   "execution_count": 13,
   "metadata": {},
   "outputs": [
    {
     "name": "stdout",
     "output_type": "stream",
     "text": [
      "/home/qwang/.local/share/Trash/files/app\n"
     ]
    }
   ],
   "source": [
    "import json\n",
    "import os\n",
    "print(os.getcwd())\n",
    "import pubmed_parser\n",
    "import pred_fn\n",
    "from pred_fn import sent_detect, pred_one_bert, tup2dict"
   ]
  },
  {
   "cell_type": "code",
   "execution_count": 11,
   "metadata": {},
   "outputs": [],
   "source": [
    "pmid = 23326526  # 11360989\n",
    "mod = 'bert'\n",
    "pre_wgts = 'biobert'\n",
    "\n",
    "sent_pth = '/home/qwang/pre-pico/app/sent_abs.pth.tar'\n",
    "prfs_path = '/home/qwang/pre-pico/app/b0_bio.json'\n",
    "pth_path = '/home/qwang/pre-pico/app/b0_bio_last.pth.tar'  "
   ]
  },
  {
   "cell_type": "code",
   "execution_count": 23,
   "metadata": {},
   "outputs": [
    {
     "name": "stdout",
     "output_type": "stream",
     "text": [
      "Abstract(pmid=23326526):\n",
      "    Aerobic exercise has beneficial effects on both weight control and skeletal muscle insulin sensitivity through a number of specific signaling proteins. To investigate the targets by which exercise exerts its effects on insulin resistance, an approach of proteomic screen was applied to detect the potential different protein expressions from skeletal muscle of insulin-resistant mice after prolonged aerobic exercise training and their sedentary controls. Eighteen C57BL/6 mice were divided into two groups: 6 mice were fed normal chow (NC) and 12 mice were fed high-fat diet (HFD) for 10 weeks to produce an IR model. The model group was then subdivided into HFD sedentary control (HC, n = 6) and HFD exercise groups (HE, n = 6). Mice in HE group underwent 6 weeks of treadmill running. After 6 weeks, mice were sacrificed and skeletal muscle was dissected. Total protein (n = 6, each group) was extracted and followed by citrate synthase, 2D proteome profile analysis and immunoblot. Fifteen protein spots were altered between the NC and HC groups and 23 protein spots were changed between the HC and HE groups significantly. The results provided an array of changes in protein abundance in exercise-trained skeletal muscle and also provided the basis for a new hypothesis regarding the mechanism of exercise ameliorating insulin resistance.\n",
      "\n",
      "=========== PICO ==========\n",
      "\n",
      "Species: {'mice'}\n",
      "\n",
      "Intervention: {'aerobic exercise', 'treadmill', 'exercise'}\n",
      "\n",
      "Comparator: {'HFD)', 'high-fat diet', 'normal chow', 'sedentary'}\n",
      "\n",
      "Strain: {'C57BL/6'}\n",
      "\n",
      "Induction: {'HF', 'HFD'}\n",
      "\n",
      "Outcome: {'protein spots', 'Total protein'}\n"
     ]
    }
   ],
   "source": [
    "# Obtain abstract by pmid\n",
    "try:\n",
    "    xml = pubmed_parser.parse_xml_web(pmid)\n",
    "    text = xml['abstract']\n",
    "    if text == \"\":\n",
    "        print(\"\\nNo abstract available!\")    \n",
    "        exit\n",
    "    else:\n",
    "        print(\"Abstract(pmid={}):\".format(pmid))\n",
    "        print(\"    {}\".format(text))\n",
    "        ## Extract pico text   \n",
    "        text = sent_detect(text, sent_pth)\n",
    "        # Load idx2tag\n",
    "        with open(prfs_path) as f:\n",
    "            dat = json.load(f)    \n",
    "        idx2tag = dat['idx2tag']\n",
    "        # Extract pico phrases              \n",
    "        tup = pred_one_bert(text, mod, pre_wgts, pth_path, idx2tag)\n",
    "        res = tup2dict(tup)\n",
    "        print(\"\\n=========== PICO ==========\")\n",
    "        for k, v in res.items():\n",
    "            print(\"\\n{}: {}\".format(k,v))\n",
    "except:\n",
    "    print(\"\\nPMID not applicable!\")"
   ]
  }
 ],
 "metadata": {
  "kernelspec": {
   "display_name": "Python 3",
   "language": "python",
   "name": "python3"
  },
  "language_info": {
   "codemirror_mode": {
    "name": "ipython",
    "version": 3
   },
   "file_extension": ".py",
   "mimetype": "text/x-python",
   "name": "python",
   "nbconvert_exporter": "python",
   "pygments_lexer": "ipython3",
   "version": "3.7.4"
  }
 },
 "nbformat": 4,
 "nbformat_minor": 4
}
